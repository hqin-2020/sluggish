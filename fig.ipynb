{
 "cells": [
  {
   "cell_type": "code",
   "execution_count": 1,
   "metadata": {},
   "outputs": [
    {
     "data": {
      "text/html": [
       "<style>.container { width:100% !important; }</style>"
      ],
      "text/plain": [
       "<IPython.core.display.HTML object>"
      ]
     },
     "metadata": {},
     "output_type": "display_data"
    }
   ],
   "source": [
    "from PIL import Image\n",
    "from ipywidgets import interactive\n",
    "from IPython.display import display, HTML\n",
    "display(HTML(\"<style>.container { width:100% !important; }</style>\"))\n",
    "from ipywidgets import Box"
   ]
  },
  {
   "cell_type": "code",
   "execution_count": 2,
   "metadata": {},
   "outputs": [
    {
     "data": {
      "application/vnd.jupyter.widget-view+json": {
       "model_id": "fe2b1d28791346109c307f336b23cd55",
       "version_major": 2,
       "version_minor": 0
      },
      "text/plain": [
       "Box(children=(interactive(children=(Dropdown(description='rho', options=(1.00001,), value=1.00001), Dropdown(d…"
      ]
     },
     "metadata": {},
     "output_type": "display_data"
    }
   ],
   "source": [
    "def image(rho=[1.00001],\\\n",
    "          gamma = [1.00001,3.0,5.0,8.0],\\\n",
    "          kappa = [0.0,-1.0,-3.0,-5.0,-10.0],\\\n",
    "          zeta = [0.5],\\\n",
    "          boundc = ['natural','mix','neumann'],\\\n",
    "          figure = ['control variable','value funcition','investment over capital']):\n",
    "\n",
    "    print('rho:', rho, ', gamma:', gamma, ', kappa:', kappa, ', zeta:', zeta)\n",
    "\n",
    "    Figure_Dir = './figure/TwoCapital_mul_bc_kappa_gamma_bc_'\n",
    "    if boundc == 'natural':\n",
    "        Figure_Dir = Figure_Dir+'0/'\n",
    "    elif boundc == 'mix':\n",
    "        Figure_Dir = Figure_Dir+'1/'\n",
    "    elif boundc == 'neumann':\n",
    "        Figure_Dir = Figure_Dir+'2/'\n",
    "\n",
    "    fraction = 0.005\n",
    "    epsilon = 0.005\n",
    "    Figure_Dir = Figure_Dir + 'frac_{}'.format(fraction) + '/eps_{}'.format(epsilon) +'/rho_{}_gamma_{}_kappa_{}_zeta_{}'.format(rho,gamma,kappa,zeta)\n",
    "\n",
    "    if figure == 'control variable':\n",
    "        Figure_Dir = Figure_Dir + '/i_eps_{}_frac_{}'.format(epsilon,fraction)+'.png'\n",
    "    elif figure == 'value funcition':\n",
    "        Figure_Dir = Figure_Dir + '/v_eps_{}_frac_{}'.format(epsilon,fraction)+'.png'\n",
    "    userimage = Image.open(Figure_Dir)\n",
    "    display(userimage)\n",
    "    \n",
    "interactive_plot = interactive(image)\n",
    "\n",
    "items = [interactive_plot]\n",
    "box = Box(children=items)\n",
    "\n",
    "box"
   ]
  },
  {
   "cell_type": "code",
   "execution_count": null,
   "metadata": {},
   "outputs": [],
   "source": []
  }
 ],
 "metadata": {
  "interpreter": {
   "hash": "1c67a9c81f4b1f676ee52b818d3e176be5c9dd44f82a35d6054954eb94c37bc5"
  },
  "kernelspec": {
   "display_name": "Python 3.9.12 ('base')",
   "language": "python",
   "name": "python3"
  },
  "language_info": {
   "codemirror_mode": {
    "name": "ipython",
    "version": 3
   },
   "file_extension": ".py",
   "mimetype": "text/x-python",
   "name": "python",
   "nbconvert_exporter": "python",
   "pygments_lexer": "ipython3",
   "version": "3.9.12"
  },
  "orig_nbformat": 4
 },
 "nbformat": 4,
 "nbformat_minor": 2
}
