{
 "cells": [
  {
   "cell_type": "code",
   "execution_count": null,
   "metadata": {},
   "outputs": [],
   "source": [
    "from PIL import Image\n",
    "from ipywidgets import interactive\n",
    "from IPython.display import display, HTML\n",
    "display(HTML(\"<style>.container { width:100% !important; }</style>\"))\n",
    "from ipywidgets import Box"
   ]
  },
  {
   "cell_type": "code",
   "execution_count": null,
   "metadata": {},
   "outputs": [],
   "source": [
    "def image(rho=[1.00001],\\\n",
    "          gamma = [1.00001,3.0,5.0,8.0],\\\n",
    "          kappa = [0.0,-1.0,-3.0,-5.0,-10.0],\\\n",
    "          gamma_e = [2.0, 3.0, 4.0],\\\n",
    "          gamma_h = [5.0, 6.0, 7.0, 8.0],\\\n",
    "          psi_e = [1.0],\\\n",
    "          psi_h = [1.0],\\\n",
    "          time = ['year','quarter','month','half month'],\\\n",
    "         graphtype = ['expoElasExperts_C_type1org',\\\n",
    "                      'expoElasHouseholdss_C_type1org',\\\n",
    "                      'priceElasExperts_C_type1org',\\\n",
    "                      'priceElasHouseholds_C_type1org',\\\n",
    "                    'expoElasExperts_C_type1',\\\n",
    "                     'expoElasHouseholdss_C_type1',\\\n",
    "                     'priceElasExperts_C_type1',\\\n",
    "                      'priceElasHouseholds_C_type1',\\\n",
    "                     'priceElasExperts_N_type1',\\\n",
    "                      'priceElasHouseholds_N_type1',\\\n",
    "                     'priceElasExperts_N_type2',\\\n",
    "                     'priceElasHouseholds_N_type2']):\n",
    "    \n",
    "    Figure_Dir = './figure/time/'\n",
    "    if a_h == 'not productive':\n",
    "        a_h = -1.\n",
    "        a_h_print = 'not productive'\n",
    "    else :\n",
    "        a_h_print = a_h\n",
    "    print('chiUnderline:', chiUnderline, ', a_e:', a_e, ', a_h:', a_h_print)\n",
    "    print('gamma_e:', gamma_e, ', gamma_h:', gamma_h, ', psi_e:', psi_e, ', psi_h:', psi_h)\n",
    "\n",
    "    \n",
    "    psi_e = str(\"{:0.3f}\".format(psi_e)).replace('.', '', 1) \n",
    "    psi_h = str(\"{:0.3f}\".format(psi_h)).replace('.', '', 1) \n",
    "    gamma_e = str(\"{:0.3f}\".format(gamma_e)).replace('.', '', 1) \n",
    "    gamma_h = str(\"{:0.3f}\".format(gamma_h)).replace('.', '', 1) \n",
    "    a_e = str(\"{:0.3f}\".format(a_e)).replace('.', '', 1) \n",
    "    a_h = str(\"{:0.3f}\".format(a_h)).replace('.', '', 1) \n",
    "    chiUnderline = str(\"{:0.3f}\".format(chiUnderline)).replace('.', '', 1) \n",
    "\n",
    "    folder_name = 'chiUnderline_' + chiUnderline + '_a_e_' + a_e + '_a_h_' + a_h  + '_gamma_e_' + gamma_e + '_gamma_h_' + gamma_h + '_psi_e_' + psi_e + '_psi_h_' + psi_h\n",
    "    if time == 'quarter':\n",
    "        if 'org' in graphtype:\n",
    "            filename = Figure_Dir + folder_name + '_quarter/'+graphtype + 'quarter.png'\n",
    "        else:\n",
    "            filename = Figure_Dir + folder_name + '_quarter/'+graphtype + '.png'\n",
    "    elif time == 'month':\n",
    "        if 'org' in graphtype:\n",
    "            filename = Figure_Dir + folder_name + '_month/'+graphtype + 'month.png'\n",
    "        else:\n",
    "            filename = Figure_Dir + folder_name + '_month/'+graphtype + '.png'\n",
    "    elif time == 'half month':\n",
    "        if 'org' in graphtype:\n",
    "            filename = Figure_Dir + folder_name + '_24/'+graphtype + 'halfmonth.png'\n",
    "        else:\n",
    "            filename = Figure_Dir + folder_name + '_24/'+graphtype + '.png'\n",
    "    else:\n",
    "        filename = Figure_Dir + folder_name+'/'+graphtype  + '.png'\n",
    "    userimage = Image.open(filename)\n",
    "    display(userimage)\n",
    "    \n",
    "interactive_plot = interactive(image)\n",
    "\n",
    "items = [interactive_plot]\n",
    "box = Box(children=items)\n",
    "\n",
    "box"
   ]
  }
 ],
 "metadata": {
  "interpreter": {
   "hash": "25a19fbe0a9132dfb9279d48d161753c6352f8f9478c2e74383d340069b907c3"
  },
  "kernelspec": {
   "display_name": "Python 3.9.12 64-bit",
   "language": "python",
   "name": "python3"
  },
  "language_info": {
   "name": "python",
   "version": "3.9.12"
  },
  "orig_nbformat": 4
 },
 "nbformat": 4,
 "nbformat_minor": 2
}
